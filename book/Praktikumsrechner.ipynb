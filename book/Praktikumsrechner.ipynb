{
 "cells": [
  {
   "metadata": {},
   "cell_type": "markdown",
   "source": "# G1 Rechner",
   "id": "f2e412ab3061922c"
  },
  {
   "metadata": {
    "ExecuteTime": {
     "end_time": "2025-01-08T16:14:30.786914Z",
     "start_time": "2025-01-08T16:14:30.700842Z"
    }
   },
   "cell_type": "code",
   "source": [
    "molmasse_calcium = 40.078\n",
    "molmasse_calciumoxalat = 2* 12.011 + 4*15.999\n",
    "\n",
    "gravimetrischer_faktor = molmasse_calcium/molmasse_calciumoxalat\n",
    "\n",
    "\n",
    "masse_tiegel_1 = 29.2633\n",
    "masse_tiegel_2 = 30.8514\n",
    "masse_tiegel_3 = 30.7613\n",
    "\n",
    "masse_auswage_1 =29.5012\n",
    "masse_auswage_2 = 31.0895\n",
    "masse_auswage_3 = 31.0047\n",
    "\n",
    "differenz_1 = masse_auswage_1 - masse_tiegel_1\n",
    "differenz_2 = masse_auswage_2 - masse_tiegel_2\n",
    "differenz_3 = masse_auswage_3 - masse_tiegel_3\n",
    "\n",
    "\n",
    "import numpy as np\n",
    "\n",
    "a = np.array([differenz_1,differenz_2,differenz_3])\n",
    "\n",
    "d_masse = np.mean(a)\n",
    "\n",
    "masse_gesamt = d_masse*gravimetrischer_faktor*4\n",
    "\n",
    "\n",
    "print(f\"Gravimetrischer Faktor = {masse_gesamt:.5f}\\n\")\n",
    "print(f\"Differenz 1: {differenz_1}\\nDifferenz 2: {differenz_2}\\nDifferenz 3: {differenz_3}\\n\")\n",
    "print(f\"Gesamtmasse: {masse_gesamt}\")\n"
   ],
   "id": "5f5db0d6232057d8",
   "outputs": [
    {
     "name": "stdout",
     "output_type": "stream",
     "text": [
      "Gravimetrischer Faktor = 0.43676\n",
      "\n",
      "Differenz 1: 0.23789999999999978\n",
      "Differenz 2: 0.2380999999999993\n",
      "Differenz 3: 0.24340000000000117\n",
      "\n",
      "Gesamtmasse: 0.43676086255084207\n"
     ]
    }
   ],
   "execution_count": 1
  },
  {
   "metadata": {},
   "cell_type": "markdown",
   "source": "# T1 Rechner",
   "id": "cb64da03eb74631f"
  },
  {
   "metadata": {
    "ExecuteTime": {
     "end_time": "2025-01-08T16:15:07.111769Z",
     "start_time": "2025-01-08T16:15:07.106472Z"
    }
   },
   "cell_type": "code",
   "source": [
    "normalität_Base = 0.1\n",
    "titer = 1.0458\n",
    "v1 = 18.6e-3\n",
    "v2 = 18.65e-3\n",
    "v3 = 18.65e-3\n",
    "molare_masse_h2so4 = 2 * 1.008 + 1* 32.065 + 4* 15.999\n",
    "v = v2\n",
    "\n",
    "stoffmenge_säure_in_P = normalität_Base * titer * v\n",
    "\n",
    "stoffmenge_säure_in_Q = stoffmenge_säure_in_P * 4\n",
    "\n",
    "masse_in_Probe = molare_masse_h2so4 * stoffmenge_säure_in_Q/2\n",
    "\n",
    "print(masse_in_Probe * 1e3)\n"
   ],
   "id": "c23ef27cd5c3ec46",
   "outputs": [
    {
     "name": "stdout",
     "output_type": "stream",
     "text": [
      "382.582096218\n"
     ]
    }
   ],
   "execution_count": 2
  },
  {
   "metadata": {},
   "cell_type": "markdown",
   "source": "# T4 Rechner",
   "id": "e8275edc7c19f5f8"
  },
  {
   "metadata": {},
   "cell_type": "code",
   "outputs": [],
   "execution_count": null,
   "source": [
    "normalität_Säure = 0.1\n",
    "titer = 1.0104\n",
    "v1 = 15.2e-3+0.93e-3\n",
    "v2 = 15.45e-3+0.8e-3\n",
    "v3 = 15.6e-3+1.7e-3\n",
    "\n",
    "import numpy as np\n",
    "\n",
    "_ = np.array([v1,v2,v3])\n",
    "\n",
    "v = (v1 + v2)/2.0\n",
    "\n",
    "molare_masse_HCO3 = 1 * 1.008 + 1*12.011+3* 15.999\n",
    "\n",
    "stoffmenge_base_in_P = normalität_Säure * titer * v\n",
    "\n",
    "stoffmenge_base_in_Q = stoffmenge_base_in_P * 4\n",
    "\n",
    "masse_in_Probe = molare_masse_HCO3 * stoffmenge_base_in_Q\n",
    "\n",
    "print(masse_in_Probe *1e3)\n"
   ],
   "id": "791832e1970f5462"
  },
  {
   "metadata": {},
   "cell_type": "markdown",
   "source": "# T13 Rechner",
   "id": "76a55c10bc486218"
  },
  {
   "metadata": {},
   "cell_type": "code",
   "outputs": [],
   "execution_count": null,
   "source": [
    "titer_natriumthiosulfat = ??? # FALLSCH\n",
    "konzentration_natriumthiosulfat = 0.1 #SCHAUEN OB KONZENTRATION GLEICH\n",
    "\n",
    "molare_masse_cu = 63.546\n",
    "\n",
    "volumen_1 =17.5\n",
    "volumen_2 = 17.65\n",
    "volumen_3 = 17.4\n",
    "\n",
    "average = (volumen_1 + volumen_2 + volumen_3)/3\n",
    "\n",
    "\n",
    "stoffmenge = konzentration_natriumthiosulfat * titer_natriumthiosulfat * average * 4\n",
    "\n",
    "masse = stoffmenge * molare_masse_cu\n",
    "print(f\"masse = {masse}\")"
   ],
   "id": "871e47b8b4964778"
  },
  {
   "metadata": {},
   "cell_type": "markdown",
   "source": "# T7 Rechner",
   "id": "719a0616b9dbbb15"
  },
  {
   "metadata": {},
   "cell_type": "code",
   "outputs": [],
   "execution_count": null,
   "source": [
    "normalität_EDTA = 0.1\n",
    "titer_EDTA = ???\n",
    "molare_masse_ca =40.078\n",
    "\n",
    "volumen_1 = 0\n",
    "volumen_2 = 0\n",
    "volumen_3 = 0\n",
    "\n",
    "volumen = (volumen_1 + volumen_2 + volumen_3)/3\n",
    "\n",
    "stoffmenge = volumen * titer_EDTA * normalität_EDTA * 4\n",
    "masse = stoffmenge * molare_masse_ca\n",
    "print(f\"masse = {masse}\")"
   ],
   "id": "f1ea77d75e43a901"
  }
 ],
 "metadata": {
  "kernelspec": {
   "display_name": "Python 3",
   "language": "python",
   "name": "python3"
  },
  "language_info": {
   "codemirror_mode": {
    "name": "ipython",
    "version": 2
   },
   "file_extension": ".py",
   "mimetype": "text/x-python",
   "name": "python",
   "nbconvert_exporter": "python",
   "pygments_lexer": "ipython2",
   "version": "2.7.6"
  }
 },
 "nbformat": 4,
 "nbformat_minor": 5
}
